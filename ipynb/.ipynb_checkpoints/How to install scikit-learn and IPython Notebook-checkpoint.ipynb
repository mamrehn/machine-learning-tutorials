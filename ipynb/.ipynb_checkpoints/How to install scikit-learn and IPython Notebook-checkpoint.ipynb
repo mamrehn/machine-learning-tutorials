{
 "metadata": {
  "name": "",
  "signature": "sha256:73beb65c06e002112735b6b7708a5c471cb9c26933a2fcff377b201e351da6b0"
 },
 "nbformat": 3,
 "nbformat_minor": 0,
 "worksheets": [
  {
   "cells": [
    {
     "cell_type": "markdown",
     "metadata": {},
     "source": [
      "# Miniconda Installation\n",
      "Install Miniconda from their [Website](http://conda.pydata.org/miniconda.html).\n",
      "All required python packages will be downloaded using the `conda` package and environment management system.\n",
      "When Miniconda is installed on your system, open up your shell with the command `WINDOWS` + `R` -> `cmd` on windows or search for the\n",
      "`terminal` on Linux systems."
     ]
    },
    {
     "cell_type": "markdown",
     "metadata": {},
     "source": [
      "Then type this to make sure you got the latest version."
     ]
    },
    {
     "cell_type": "code",
     "collapsed": false,
     "input": [
      "conda update conda"
     ],
     "language": "python",
     "metadata": {},
     "outputs": []
    },
    {
     "cell_type": "markdown",
     "metadata": {},
     "source": [
      "A new environment capsule with preset libraries installed for one or more of your projects can be created. `fauenv` is the name of the new python 3.x environment in this example."
     ]
    },
    {
     "cell_type": "code",
     "collapsed": false,
     "input": [
      "conda create -n fauenv python=3"
     ],
     "language": "python",
     "metadata": {},
     "outputs": []
    },
    {
     "cell_type": "markdown",
     "metadata": {},
     "source": [
      "Check which environments are currently installed. `root` is the name of the default one."
     ]
    },
    {
     "cell_type": "code",
     "collapsed": false,
     "input": [
      "conda info -e"
     ],
     "language": "python",
     "metadata": {},
     "outputs": []
    },
    {
     "cell_type": "markdown",
     "metadata": {},
     "source": [
      "Then, `activate` the desired environment."
     ]
    },
    {
     "cell_type": "code",
     "collapsed": false,
     "input": [
      "activate fauenv"
     ],
     "language": "python",
     "metadata": {},
     "outputs": []
    },
    {
     "cell_type": "markdown",
     "metadata": {},
     "source": [
      "# Install Packages for Machine Learning / Pattern Recognition\n",
      "With this command, all required packages as well as their dependencies will be installed in the latest version possible. Version conflicts between them are avoided automatically.\n",
      "\n",
      "*Note, those packages are only installed for the chosen environment.\n",
      "If you want to install them on another environment in the same version,`conda` automatically creates the hardlinks to the library's directory, avoiding to have numerous copies of the same library on the filesystem.*"
     ]
    },
    {
     "cell_type": "code",
     "collapsed": false,
     "input": [
      "conda install -n fauenv numpy scipy matplotlib ipython ipython-notebook numba scikit-learn"
     ],
     "language": "python",
     "metadata": {},
     "outputs": []
    },
    {
     "cell_type": "markdown",
     "metadata": {},
     "source": [
      "In order to free about 330MB of disc space after installation, delete the cached tar.bz archive files. *Packages no longer needed as dependencies can be deleted as well.*"
     ]
    },
    {
     "cell_type": "code",
     "collapsed": false,
     "input": [
      "conda clean -t # Delete downloaded cached tarballs\n",
      "#conda clean -p # Delete orphaned packages"
     ],
     "language": "python",
     "metadata": {},
     "outputs": []
    },
    {
     "cell_type": "markdown",
     "metadata": {},
     "source": [
      "To update all packages of a specific environment call"
     ]
    },
    {
     "cell_type": "code",
     "collapsed": false,
     "input": [
      "conda update --all -n fauenv"
     ],
     "language": "python",
     "metadata": {},
     "outputs": []
    },
    {
     "cell_type": "markdown",
     "metadata": {},
     "source": [
      "Now, all is set up to get started.\n",
      "\n",
      "# Using IPython Notebook\n",
      "The [IPython Notebook](http://ipython.org/notebook.html) is a web-based interactive computational environment to combine code execution, text, mathematics, plots and rich media into a single document. \n",
      "There are several [tutorials](http://ipython.org/ipython-doc/dev/notebook/notebook.html#introduction) for this framework.\n",
      "\n",
      "To start IPython Notebook call"
     ]
    },
    {
     "cell_type": "code",
     "collapsed": false,
     "input": [
      "# The --pylab inline is for plotting graphs\n",
      "ipython notebook --pylab inline"
     ],
     "language": "python",
     "metadata": {},
     "outputs": []
    },
    {
     "cell_type": "markdown",
     "metadata": {},
     "source": [
      "The console will show an URL like http://localhost:8888/tree and open the operating system's default browser with this location.\n",
      "Use it to navigate, open, create, delete, and run `.ipynb` files."
     ]
    },
    {
     "cell_type": "markdown",
     "metadata": {},
     "source": [
      "Note: You may also call `ipython notebook` without the additional parameters instead. Then, for inline plots use this *magic function* at the beginning of your code."
     ]
    },
    {
     "cell_type": "code",
     "collapsed": false,
     "input": [
      "# note: this also imports numpy as np, imports matplotlib.pyplot as plt, and others\n",
      "%pylab inline"
     ],
     "language": "python",
     "metadata": {},
     "outputs": []
    },
    {
     "cell_type": "markdown",
     "metadata": {},
     "source": [
      "## IPython notebook magic functions\n",
      "\n",
      "Unlike traditional python, the IPython notebook offers some extended timing, profiling, aliasing and other functionalities via it's magic functions.\n",
      "\n",
      "An example:"
     ]
    },
    {
     "cell_type": "code",
     "collapsed": false,
     "input": [
      "%time sum(x for x in range(100000))"
     ],
     "language": "python",
     "metadata": {},
     "outputs": [
      {
       "output_type": "stream",
       "stream": "stdout",
       "text": [
        "Wall time: 7 ms\n"
       ]
      },
      {
       "metadata": {},
       "output_type": "pyout",
       "prompt_number": 1,
       "text": [
        "4999950000"
       ]
      }
     ],
     "prompt_number": 1
    },
    {
     "cell_type": "markdown",
     "metadata": {},
     "source": [
      "In standard python this would be achieved by"
     ]
    },
    {
     "cell_type": "code",
     "collapsed": false,
     "input": [
      "# python -mtimeit -s\"import test\" \"mytestFunction(42)\""
     ],
     "language": "python",
     "metadata": {},
     "outputs": []
    },
    {
     "cell_type": "markdown",
     "metadata": {},
     "source": [
      "Some useful magic functions are\n",
      "- `%time` or `%timeit` for benchmarks (like python's `python -mtimeit -s\"import test\" \"test.numpy_all_the_way(100)\"`)\n",
      "- `%prun` for profiling\n",
      "- `%magic` returns a list of all magic functions\n",
      "- `%load` or `%loadpy` to import a `.py` file into the notebook\n",
      "- `%quickref` for a reference sheet"
     ]
    },
    {
     "cell_type": "code",
     "collapsed": false,
     "input": [
      "%quickref"
     ],
     "language": "python",
     "metadata": {},
     "outputs": []
    },
    {
     "cell_type": "markdown",
     "metadata": {},
     "source": [
      "## Further readings\n",
      "\n",
      "There are some great websites where ready-made IPython Notebook files can be found and imported:\n",
      "1. [Nbviewer](http://nbviewer.ipython.org/): An online `.ipynb` render engine for notebooks on github\n",
      "   1. [IPython Notebook Tutorial](http://nbviewer.ipython.org/github/johnkabler/ga_data_munging_python/tree/master/cookbook/)\n",
      "   2. Good [Scikit-learn Tutorial](http://nbviewer.ipython.org/github/bigsnarfdude/machineLearning/tree/master/)\n",
      "3. [Google: segmentation type:ipynb github](https://www.google.de/search?q=segmentation+type%3Aipynb+github)"
     ]
    },
    {
     "cell_type": "markdown",
     "metadata": {},
     "source": [
      "# Day two\n",
      "\n",
      "When you come back to working with `scikit-learn` and `ipython notebook`, use those commands to get the fresh releases and start the server"
     ]
    },
    {
     "cell_type": "code",
     "collapsed": false,
     "input": [
      "conda update conda\n",
      "conda update --all -n fauenv\n",
      "activate fauenv\n",
      "ipython notebook --pylab inline"
     ],
     "language": "python",
     "metadata": {},
     "outputs": []
    }
   ],
   "metadata": {}
  }
 ]
}