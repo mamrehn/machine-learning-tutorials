{
 "metadata": {
  "name": "",
  "signature": "sha256:99e852c77319d3a871d05ccd8ef7267f5828c93f4904de6a3b50de905872a1aa"
 },
 "nbformat": 3,
 "nbformat_minor": 0,
 "worksheets": [
  {
   "cells": [
    {
     "cell_type": "markdown",
     "metadata": {},
     "source": [
      "This is a quick tutorial to get started with scikit-learn.\n",
      "\n",
      "Parts of the code presented are based on this [machineLearning](http://nbviewer.ipython.org/github/bigsnarfdude/machineLearning/blob/master/02_sklearn_data.ipynb)\n",
      "tutorial."
     ]
    },
    {
     "cell_type": "code",
     "collapsed": false,
     "input": [
      "from sklearn import datasets\n",
      "\n",
      "#datasets.load_ -> [press tab for completion]\n",
      "iris = datasets.load_iris()\n",
      "iris.keys()"
     ],
     "language": "python",
     "metadata": {},
     "outputs": [
      {
       "metadata": {},
       "output_type": "pyout",
       "prompt_number": 9,
       "text": [
        "dict_keys(['feature_names', 'target', 'data', 'target_names', 'DESCR'])"
       ]
      }
     ],
     "prompt_number": 9
    },
    {
     "cell_type": "code",
     "collapsed": false,
     "input": [
      "for k in iris.keys():\n",
      "    print('\\n== ', k, '==\\n', str(iris[k])[0:390])"
     ],
     "language": "python",
     "metadata": {},
     "outputs": [
      {
       "output_type": "stream",
       "stream": "stdout",
       "text": [
        "\n",
        "==  feature_names ==\n",
        " ['sepal length (cm)', 'sepal width (cm)', 'petal length (cm)', 'petal width (cm)']\n",
        "\n",
        "==  target ==\n",
        " [0 0 0 0 0 0 0 0 0 0 0 0 0 0 0 0 0 0 0 0 0 0 0 0 0 0 0 0 0 0 0 0 0 0 0 0 0\n",
        " 0 0 0 0 0 0 0 0 0 0 0 0 0 1 1 1 1 1 1 1 1 1 1 1 1 1 1 1 1 1 1 1 1 1 1 1 1\n",
        " 1 1 1 1 1 1 1 1 1 1 1 1 1 1 1 1 1 1 1 1 1 1 1 1 1 1 2 2 2 2 2 2 2 2 2 2 2\n",
        " 2 2 2 2 2 2 2 2 2 2 2 2 2 2 2 2 2 2 2 2 2 2 2 2 2 2 2 2 2 2 2 2 2 2 2 2 2\n",
        " 2 2]\n",
        "\n",
        "==  data ==\n",
        " [[ 5.1  3.5  1.4  0.2]\n",
        " [ 4.9  3.   1.4  0.2]\n",
        " [ 4.7  3.2  1.3  0.2]\n",
        " [ 4.6  3.1  1.5  0.2]\n",
        " [ 5.   3.6  1.4  0.2]\n",
        " [ 5.4  3.9  1.7  0.4]\n",
        " [ 4.6  3.4  1.4  0.3]\n",
        " [ 5.   3.4  1.5  0.2]\n",
        " [ 4.4  2.9  1.4  0.2]\n",
        " [ 4.9  3.1  1.5  0.1]\n",
        " [ 5.4  3.7  1.5  0.2]\n",
        " [ 4.8  3.4  1.6  0.2]\n",
        " [ 4.8  3.   1.4  0.1]\n",
        " [ 4.3  3.   1.1  0.1]\n",
        " [ 5.8  4.   1.2  0.2]\n",
        " [ 5.7  4.4  1.5  0.4]\n",
        " [ 5.4  3.9  1.3  0.4]\n",
        "\n",
        "==  target_names ==\n",
        " ['setosa' 'versicolor' 'virginica']\n",
        "\n",
        "==  DESCR ==\n",
        " Iris Plants Database\n",
        "\n",
        "Notes\n",
        "-----\n",
        "Data Set Characteristics:\n",
        "    :Number of Instances: 150 (50 in each of three classes)\n",
        "    :Number of Attributes: 4 numeric, predictive attributes and the class\n",
        "    :Attribute Information:\n",
        "        - sepal length in cm\n",
        "        - sepal width in cm\n",
        "        - petal length in cm\n",
        "        - petal width in cm\n",
        "        - class:\n",
        "                - Iris-Setosa\n",
        "       \n"
       ]
      }
     ],
     "prompt_number": 45
    },
    {
     "cell_type": "code",
     "collapsed": false,
     "input": [
      "for k in iris.keys():\n",
      "    print(k, ':', type(iris[k]))"
     ],
     "language": "python",
     "metadata": {},
     "outputs": [
      {
       "output_type": "stream",
       "stream": "stdout",
       "text": [
        "feature_names : <class 'list'>\n",
        "target : <class 'numpy.ndarray'>\n",
        "data : <class 'numpy.ndarray'>\n",
        "target_names : <class 'numpy.ndarray'>\n",
        "DESCR : <class 'str'>\n"
       ]
      }
     ],
     "prompt_number": 60
    },
    {
     "cell_type": "code",
     "collapsed": false,
     "input": [
      "[(k, iris[k].shape) for k in iris.keys() if type(iris[k]) == numpy.ndarray]"
     ],
     "language": "python",
     "metadata": {},
     "outputs": [
      {
       "metadata": {},
       "output_type": "pyout",
       "prompt_number": 73,
       "text": [
        "[('target', (150,)), ('data', (150, 4)), ('target_names', (3,))]"
       ]
      }
     ],
     "prompt_number": 73
    },
    {
     "cell_type": "code",
     "collapsed": false,
     "input": [
      "# note: this also imports numpy as np, imports matplotlib.pyplot as plt, and others\n",
      "%pylab inline"
     ],
     "language": "python",
     "metadata": {},
     "outputs": [
      {
       "output_type": "stream",
       "stream": "stdout",
       "text": [
        "Populating the interactive namespace from numpy and matplotlib\n"
       ]
      }
     ],
     "prompt_number": 74
    },
    {
     "cell_type": "markdown",
     "metadata": {},
     "source": [
      "Benchmark classificator by [ml-benchmarks](https://github.com/scikit-learn/ml-benchmarks/tree/master/benchmarks):"
     ]
    },
    {
     "cell_type": "code",
     "collapsed": false,
     "input": [
      "def dtime_to_seconds(dtime):\n",
      "    return dtime.seconds + (dtime.microseconds * 1e-6)\n",
      "\n",
      "def bench(func, data, n=10):\n",
      "    assert n > 2\n",
      "    score = np.inf\n",
      "    try:\n",
      "        time = []\n",
      "        for i in range(n):\n",
      "            score, t = func(*data)\n",
      "            time.append(dtime_to_seconds(t))\n",
      "        # remove extremal values\n",
      "        time.pop(np.argmax(time))\n",
      "        time.pop(np.argmin(time))\n",
      "    except Exception as detail:\n",
      "        print('%s error in function %s: ', (repr(detail), func))\n",
      "        time = []\n",
      "    return score, np.array(time)\n",
      "\n",
      "def bench_skl(X, y, T, valid):\n",
      "    from sklearn import linear_model, ensemble\n",
      "    start = datetime.now()\n",
      "    # http://scikit-learn.org/stable/modules/classes.html\n",
      "    clf = ensemble.RandomForestClassifier(n_estimators=1000, n_jobs=5, verbose=0, compute_importances=None)\n",
      "    #clf = linear_model.ElasticNet(alpha=0.5, l1_ratio=0.5)\n",
      "    #clf = linear_model.LogisticRegression()\n",
      "    #clf = neighbors.NeighborsClassifier(n_neighbors=n_neighbors, algorithm='brute_inplace')\n",
      "    #clf = skl_cluster.KMeans(k=n_components, n_init=1)\n",
      "    #...\n",
      "    clf.fit(X, y)\n",
      "\n",
      "    ## Regression\n",
      "    # pred = clf.predict(T)\n",
      "    # delta = datetime.now() - start\n",
      "    # mse = np.linalg.norm(pred - valid, 2) ** 2\n",
      "    # return mse, delta\n",
      "\n",
      "    # Classification\n",
      "    score = np.mean(clf.predict(T) == valid)\n",
      "    return score, datetime.now() - start\n",
      "\n",
      "from sklearn import datasets\n",
      "import numpy as np\n",
      "from datetime import datetime\n",
      "\n",
      "iris = datasets.load_iris()\n",
      "\n",
      "sample_range = np.random.random_sample(size=iris.target.shape[0])\n",
      "TH = 0.7\n",
      "\n",
      "X = np.array([(iris.data[i,]) for i in range(len(iris.target)) if sample_range[i] >= TH])\n",
      "Y = np.array([(iris.target[i,]) for i in range(len(iris.target)) if sample_range[i] >= TH])\n",
      "T = np.array([(iris.data[i,]) for i in range(len(iris.target)) if sample_range[i] < TH])\n",
      "valid = np.array([(iris.target[i,]) for i in range(len(iris.target)) if sample_range[i] < TH])\n",
      "\n",
      "num_tries = 25\n",
      "score, times = bench(bench_skl, (X,Y,T,valid), num_tries)\n",
      "print('Tries:', num_tries, 'Score:', score, 'Time:', np.mean(times), '(mean)', np.median(times), '(median)')"
     ],
     "language": "python",
     "metadata": {},
     "outputs": [
      {
       "output_type": "stream",
       "stream": "stdout",
       "text": [
        "Tries: 25 Score: 0.970873786408 Time: 0.866870826087 (mean) 0.850002 (median)\n"
       ]
      }
     ],
     "prompt_number": 33
    },
    {
     "cell_type": "code",
     "collapsed": false,
     "input": [],
     "language": "python",
     "metadata": {},
     "outputs": []
    }
   ],
   "metadata": {}
  }
 ]
}