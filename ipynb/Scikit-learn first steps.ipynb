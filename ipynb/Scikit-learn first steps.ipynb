{
 "metadata": {
  "name": "",
  "signature": "sha256:c519525a2538c6de709a7aab199bbcb002273340e722a4a86281a41a763d83ec"
 },
 "nbformat": 3,
 "nbformat_minor": 0,
 "worksheets": [
  {
   "cells": [
    {
     "cell_type": "markdown",
     "metadata": {},
     "source": [
      "This is a quick tutorial to get started with scikit-learn.\n",
      "\n",
      "Parts of the code presented are based on this [machineLearning](http://nbviewer.ipython.org/github/bigsnarfdude/machineLearning/blob/master/02_sklearn_data.ipynb)\n",
      "tutorial."
     ]
    },
    {
     "cell_type": "markdown",
     "metadata": {},
     "source": [
      "First, let's take a look at the versions of the libraries involved."
     ]
    },
    {
     "cell_type": "code",
     "collapsed": false,
     "input": [
      "import numpy;      print('numpy:\\t\\t', numpy.__version__)\n",
      "import scipy;      print('scipy:\\t\\t', scipy.__version__)\n",
      "import matplotlib; print('matplotlib:\\t', matplotlib.__version__)\n",
      "import sklearn;    print('scikit-learn:\\t', sklearn.__version__)"
     ],
     "language": "python",
     "metadata": {},
     "outputs": [
      {
       "output_type": "stream",
       "stream": "stdout",
       "text": [
        "numpy:\t\t 1.8.2\n",
        "scipy:\t\t 0.14.0\n",
        "matplotlib:\t 1.4.0\n",
        "scikit-learn:\t 0.15.1\n"
       ]
      }
     ],
     "prompt_number": 1
    },
    {
     "cell_type": "markdown",
     "metadata": {},
     "source": [
      "Then load some data."
     ]
    },
    {
     "cell_type": "code",
     "collapsed": false,
     "input": [
      "from sklearn import datasets\n",
      "\n",
      "#datasets.load_ -> [press tab for completion]\n",
      "iris = datasets.load_iris()\n",
      "iris.keys()"
     ],
     "language": "python",
     "metadata": {},
     "outputs": [
      {
       "metadata": {},
       "output_type": "pyout",
       "prompt_number": 2,
       "text": [
        "dict_keys(['data', 'DESCR', 'target_names', 'target', 'feature_names'])"
       ]
      }
     ],
     "prompt_number": 2
    },
    {
     "cell_type": "code",
     "collapsed": false,
     "input": [
      "for k in iris.keys():\n",
      "    print('\\n== ', k, '==\\n', str(iris[k])[0:390])"
     ],
     "language": "python",
     "metadata": {},
     "outputs": [
      {
       "output_type": "stream",
       "stream": "stdout",
       "text": [
        "\n",
        "==  data ==\n",
        " [[ 5.1  3.5  1.4  0.2]\n",
        " [ 4.9  3.   1.4  0.2]\n",
        " [ 4.7  3.2  1.3  0.2]\n",
        " [ 4.6  3.1  1.5  0.2]\n",
        " [ 5.   3.6  1.4  0.2]\n",
        " [ 5.4  3.9  1.7  0.4]\n",
        " [ 4.6  3.4  1.4  0.3]\n",
        " [ 5.   3.4  1.5  0.2]\n",
        " [ 4.4  2.9  1.4  0.2]\n",
        " [ 4.9  3.1  1.5  0.1]\n",
        " [ 5.4  3.7  1.5  0.2]\n",
        " [ 4.8  3.4  1.6  0.2]\n",
        " [ 4.8  3.   1.4  0.1]\n",
        " [ 4.3  3.   1.1  0.1]\n",
        " [ 5.8  4.   1.2  0.2]\n",
        " [ 5.7  4.4  1.5  0.4]\n",
        " [ 5.4  3.9  1.3  0.4]\n",
        "\n",
        "==  DESCR ==\n",
        " Iris Plants Database\n",
        "\n",
        "Notes\n",
        "-----\n",
        "Data Set Characteristics:\n",
        "    :Number of Instances: 150 (50 in each of three classes)\n",
        "    :Number of Attributes: 4 numeric, predictive attributes and the class\n",
        "    :Attribute Information:\n",
        "        - sepal length in cm\n",
        "        - sepal width in cm\n",
        "        - petal length in cm\n",
        "        - petal width in cm\n",
        "        - class:\n",
        "                - Iris-Setosa\n",
        "       \n",
        "\n",
        "==  target_names ==\n",
        " ['setosa' 'versicolor' 'virginica']\n",
        "\n",
        "==  target ==\n",
        " [0 0 0 0 0 0 0 0 0 0 0 0 0 0 0 0 0 0 0 0 0 0 0 0 0 0 0 0 0 0 0 0 0 0 0 0 0\n",
        " 0 0 0 0 0 0 0 0 0 0 0 0 0 1 1 1 1 1 1 1 1 1 1 1 1 1 1 1 1 1 1 1 1 1 1 1 1\n",
        " 1 1 1 1 1 1 1 1 1 1 1 1 1 1 1 1 1 1 1 1 1 1 1 1 1 1 2 2 2 2 2 2 2 2 2 2 2\n",
        " 2 2 2 2 2 2 2 2 2 2 2 2 2 2 2 2 2 2 2 2 2 2 2 2 2 2 2 2 2 2 2 2 2 2 2 2 2\n",
        " 2 2]\n",
        "\n",
        "==  feature_names ==\n",
        " ['sepal length (cm)', 'sepal width (cm)', 'petal length (cm)', 'petal width (cm)']\n"
       ]
      }
     ],
     "prompt_number": 3
    },
    {
     "cell_type": "code",
     "collapsed": false,
     "input": [
      "for k in iris.keys():\n",
      "    print(k, ':', type(iris[k]))"
     ],
     "language": "python",
     "metadata": {},
     "outputs": [
      {
       "output_type": "stream",
       "stream": "stdout",
       "text": [
        "data : <class 'numpy.ndarray'>\n",
        "DESCR : <class 'str'>\n",
        "target_names : <class 'numpy.ndarray'>\n",
        "target : <class 'numpy.ndarray'>\n",
        "feature_names : <class 'list'>\n"
       ]
      }
     ],
     "prompt_number": 4
    },
    {
     "cell_type": "code",
     "collapsed": false,
     "input": [
      "[(k, iris[k].shape) for k in iris.keys() if type(iris[k]) == numpy.ndarray]"
     ],
     "language": "python",
     "metadata": {},
     "outputs": [
      {
       "metadata": {},
       "output_type": "pyout",
       "prompt_number": 5,
       "text": [
        "[('data', (150, 4)), ('target_names', (3,)), ('target', (150,))]"
       ]
      }
     ],
     "prompt_number": 5
    },
    {
     "cell_type": "code",
     "collapsed": false,
     "input": [
      "# note: this also imports numpy as np, imports matplotlib.pyplot as plt, and others\n",
      "%pylab inline"
     ],
     "language": "python",
     "metadata": {},
     "outputs": [
      {
       "output_type": "stream",
       "stream": "stdout",
       "text": [
        "Populating the interactive namespace from numpy and matplotlib\n"
       ]
      }
     ],
     "prompt_number": 6
    },
    {
     "cell_type": "markdown",
     "metadata": {},
     "source": [
      "Benchmark classificator by [ml-benchmarks](https://github.com/scikit-learn/ml-benchmarks/tree/master/benchmarks):"
     ]
    },
    {
     "cell_type": "code",
     "collapsed": false,
     "input": [
      "def dtime_to_seconds(dtime):\n",
      "    return dtime.seconds + (dtime.microseconds * 1e-6)\n",
      "\n",
      "def bench(func, data, n=10):\n",
      "    assert n > 2\n",
      "    score = np.inf\n",
      "    try:\n",
      "        time = []\n",
      "        for i in range(n):\n",
      "            score, t = func(*data)\n",
      "            time.append(dtime_to_seconds(t))\n",
      "        # remove extremal values\n",
      "        time.pop(np.argmax(time))\n",
      "        time.pop(np.argmin(time))\n",
      "    except Exception as detail:\n",
      "        print('%s error in function %s: ', (repr(detail), func))\n",
      "        time = []\n",
      "    return score, np.array(time)\n",
      "\n",
      "def bench_skl(X, y, T, valid):\n",
      "    from sklearn import linear_model, ensemble\n",
      "    start = datetime.now()\n",
      "    # http://scikit-learn.org/stable/modules/classes.html\n",
      "    clf = ensemble.RandomForestClassifier(n_estimators=1000, n_jobs=5, verbose=0, compute_importances=None)\n",
      "    #clf = linear_model.ElasticNet(alpha=0.5, l1_ratio=0.5)\n",
      "    #clf = linear_model.LogisticRegression()\n",
      "    #clf = neighbors.NeighborsClassifier(n_neighbors=n_neighbors, algorithm='brute_inplace')\n",
      "    #clf = skl_cluster.KMeans(k=n_components, n_init=1)\n",
      "    #...\n",
      "    clf.fit(X, y)\n",
      "\n",
      "    ## Regression\n",
      "    # pred = clf.predict(T)\n",
      "    # delta = datetime.now() - start\n",
      "    # mse = np.linalg.norm(pred - valid, 2) ** 2\n",
      "    # return mse, delta\n",
      "\n",
      "    # Classification\n",
      "    score = np.mean(clf.predict(T) == valid)\n",
      "    return score, datetime.now() - start\n",
      "\n",
      "from sklearn import datasets\n",
      "import numpy as np\n",
      "from datetime import datetime\n",
      "\n",
      "iris = datasets.load_iris()\n",
      "\n",
      "sample_range = np.random.random_sample(size=iris.target.shape[0])\n",
      "TH = 0.7\n",
      "\n",
      "X = np.array([(iris.data[i,]) for i in range(len(iris.target)) if sample_range[i] >= TH])\n",
      "Y = np.array([(iris.target[i,]) for i in range(len(iris.target)) if sample_range[i] >= TH])\n",
      "T = np.array([(iris.data[i,]) for i in range(len(iris.target)) if sample_range[i] < TH])\n",
      "valid = np.array([(iris.target[i,]) for i in range(len(iris.target)) if sample_range[i] < TH])\n",
      "\n",
      "num_tries = 25\n",
      "score, times = bench(bench_skl, (X,Y,T,valid), num_tries)\n",
      "print('Tries:', num_tries, 'Score:', score, 'Time:', np.mean(times), '(mean)', np.median(times), '(median)')"
     ],
     "language": "python",
     "metadata": {},
     "outputs": [
      {
       "output_type": "stream",
       "stream": "stdout",
       "text": [
        "Tries: 25 Score: 0.960396039604 Time: 0.900400347826 (mean) 0.868087 (median)\n"
       ]
      }
     ],
     "prompt_number": 7
    }
   ],
   "metadata": {}
  }
 ]
}