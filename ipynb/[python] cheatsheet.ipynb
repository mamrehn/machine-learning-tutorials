{
 "cells": [
  {
   "cell_type": "markdown",
   "metadata": {},
   "source": [
    "# First Steps with Python\n",
    "\n",
    "Source: [learnpython.org](http://www.learnpython.org)\n",
    "\n",
    "### List comprehensions"
   ]
  },
  {
   "cell_type": "code",
   "execution_count": 1,
   "metadata": {
    "collapsed": false
   },
   "outputs": [
    {
     "name": "stdout",
     "output_type": "stream",
     "text": [
      "[5, 5, 3, 5, 4, 4, 3]\n"
     ]
    }
   ],
   "source": [
    "sentence = 'the quick brown fox jumps over the lazy dog'\n",
    "words = sentence.split()\n",
    "word_lengths = [len(word) for word in words if 'the' != word]\n",
    "print(word_lengths)"
   ]
  },
  {
   "cell_type": "markdown",
   "metadata": {},
   "source": [
    "### Variable amount of parameters"
   ]
  },
  {
   "cell_type": "code",
   "execution_count": 2,
   "metadata": {
    "collapsed": false
   },
   "outputs": [
    {
     "name": "stdout",
     "output_type": "stream",
     "text": [
      "First: 1\n",
      "Second: 2 or Second: 2\n",
      "Third: 3\n",
      "And all the rest... [4, 5]\n",
      "None\n"
     ]
    }
   ],
   "source": [
    "def foo(first, second, third, *therest):\n",
    "    print('First: %s' % first)\n",
    "    print('Second: %s' % second, end=' or ')\n",
    "    print('Second: {}'.format(second))  # more modern approach\n",
    "    print('Third: %s' % third)\n",
    "    print('And all the rest... %s' % list(therest))\n",
    "    return\n",
    "\n",
    "print(foo(1,2,3,4,5))"
   ]
  },
  {
   "cell_type": "markdown",
   "metadata": {},
   "source": [
    "### Variable amount of named parameters"
   ]
  },
  {
   "cell_type": "code",
   "execution_count": 3,
   "metadata": {
    "collapsed": false
   },
   "outputs": [
    {
     "name": "stdout",
     "output_type": "stream",
     "text": [
      "Options is a variable of <class 'dict'>.\n",
      "The sum is: 6\n",
      "Result: 1\n"
     ]
    }
   ],
   "source": [
    "def bar(first, second, third, **options):\n",
    "    print('Options is a variable of {}.'.format(type(options)))\n",
    "    if 'sum' == options.get('action'):\n",
    "        print('The sum is: %d' % (first + second + third))\n",
    "\n",
    "    if 'first' == options.get('number'):\n",
    "        return first\n",
    "\n",
    "result = bar(1, 2, 3, action='sum', number='first')\n",
    "print('Result: %d' % result)"
   ]
  },
  {
   "cell_type": "markdown",
   "metadata": {},
   "source": [
    "### Regular expressions"
   ]
  },
  {
   "cell_type": "code",
   "execution_count": 4,
   "metadata": {
    "collapsed": false
   },
   "outputs": [
    {
     "name": "stdout",
     "output_type": "stream",
     "text": [
      "<_sre.SRE_Match object; span=(0, 35), match='From sometextpython-list@python.org'>\n",
      "Whole result:\tFrom sometextpython-list@python.org\n",
      "First part:\tFrom\n"
     ]
    }
   ],
   "source": [
    "myExp = r'^(From|To|Cc).*?python-list@python.org'\n",
    "import re\n",
    "pattern = re.compile(myExp)\n",
    "result = re.match(pattern, 'From sometextpython-list@python.org and some more')\n",
    "if result:\n",
    "    print(result)\n",
    "    print('Whole result:', result.group(0), sep='\\t')\n",
    "    print('First part:', result.group(1), sep='\\t')"
   ]
  },
  {
   "cell_type": "markdown",
   "metadata": {},
   "source": [
    "### Sets"
   ]
  },
  {
   "cell_type": "code",
   "execution_count": 5,
   "metadata": {
    "collapsed": false
   },
   "outputs": [
    {
     "name": "stdout",
     "output_type": "stream",
     "text": [
      "{'John'}\n",
      "{'Eric', 'Jake'}\n",
      "{'Eric', 'Jake', 'Jill'}\n",
      "{'Eric', 'Jake', 'Jill', 'John'}\n"
     ]
    }
   ],
   "source": [
    "a = set(('Jake', 'John', 'Eric'))  # generate a set from a tuple\n",
    "b = set(['John', 'Jill'])  # or generate a set from a list\n",
    "print(a.intersection(b)) # in both sets\n",
    "print(a.difference(b)) # in a but not in b\n",
    "print(a.symmetric_difference(b)) # distinct\n",
    "print(a.union(b)) # joined set"
   ]
  },
  {
   "cell_type": "markdown",
   "metadata": {},
   "source": [
    "### JSON/Pickle serialization\n",
    "Using JSON.<br/>\n",
    "Properties of JSON serialization: `json = {binary: false, humanReadable: true, pythonSpecific: false, serializeCustomClasses: false}`"
   ]
  },
  {
   "cell_type": "code",
   "execution_count": 6,
   "metadata": {
    "collapsed": false
   },
   "outputs": [
    {
     "name": "stdout",
     "output_type": "stream",
     "text": [
      "[1, 2, 3, \"a\", \"b\", \"c\"]\n",
      "[1, 2, 3, 'a', 'b', 'c']\n",
      "[\n",
      "  1,\n",
      "  2,\n",
      "  3,\n",
      "  \"a\",\n",
      "  \"b\",\n",
      "  \"c\"\n",
      "]\n"
     ]
    }
   ],
   "source": [
    "import json\n",
    "json_string = json.dumps([1, 2, 3, 'a', 'b', 'c'])\n",
    "print(json_string)\n",
    "print(json.loads(json_string))\n",
    "\n",
    "json_string = json.dumps([1, 2, 3, 'a', 'b', 'c'], indent=2, sort_keys=True, separators=(',', ':'))\n",
    "print(json_string)"
   ]
  },
  {
   "cell_type": "markdown",
   "metadata": {},
   "source": [
    "write JSON to and from a file"
   ]
  },
  {
   "cell_type": "code",
   "execution_count": 7,
   "metadata": {
    "collapsed": false
   },
   "outputs": [
    {
     "name": "stdout",
     "output_type": "stream",
     "text": [
      "{\"a\": 2, \"b\": 1}\n",
      "{\"a\":2,\"b\":1}\n"
     ]
    }
   ],
   "source": [
    "writeFp = open('config.json', 'w')\n",
    "json.dump({'b':1, 'a':2}, writeFp, sort_keys=True)\n",
    "writeFp.close()\n",
    "readFp = open('config.json', 'r')\n",
    "for line in readFp:\n",
    "    print(line)\n",
    "readFp.close()\n",
    "\n",
    "# separators without spaces reduce json file size\n",
    "print(json.dumps({'b':1, 'a':2}, sort_keys=True, separators=(',', ':')))"
   ]
  },
  {
   "cell_type": "markdown",
   "metadata": {},
   "source": [
    "Using [cPickle](https://docs.python.org/3.5/library/pickle.html), Python's proprietary object serialization method. With pickle, objects can be serialized.<br/>\n",
    "Properties of pickle serialization: `pickle = {binary: true, humanReadable: false, pythonSpecific: true, serializeCustomClasses: true}`"
   ]
  },
  {
   "cell_type": "code",
   "execution_count": 8,
   "metadata": {
    "collapsed": false
   },
   "outputs": [
    {
     "name": "stdout",
     "output_type": "stream",
     "text": [
      "[1, 2, 3, 'a', 'b', 'c']\n",
      "\n",
      "Pickled:\tb'\\x80\\x03c__main__\\nMyTestClass\\nq\\x00)\\x81q\\x01.'\n",
      "Unpickled:\t<__main__.MyTestClass object at 0x000000000410C828>\n",
      "Instance call:\thello\n"
     ]
    }
   ],
   "source": [
    "import pickle # or cPickle for a faster implementation\n",
    "pickled_string = pickle.dumps([1, 2, 3, 'a', 'b', 'c'])\n",
    "print(pickle.loads(pickled_string), end='\\n\\n')\n",
    "\n",
    "class MyTestClass:\n",
    "   def say(self):\n",
    "        return 'hello'\n",
    "\n",
    "pickled_string = pickle.dumps(MyTestClass())\n",
    "print('Pickled:\\t{}\\nUnpickled:\\t{}\\nInstance call:\\t{}'.format(\n",
    "        pickled_string, pickle.loads(pickled_string), pickle.loads(pickled_string).say()\n",
    "     )\n",
    ")"
   ]
  }
 ],
 "metadata": {
  "kernelspec": {
   "display_name": "Python 3",
   "language": "python",
   "name": "python3"
  },
  "language_info": {
   "codemirror_mode": {
    "name": "ipython",
    "version": 3
   },
   "file_extension": ".py",
   "mimetype": "text/x-python",
   "name": "python",
   "nbconvert_exporter": "python",
   "pygments_lexer": "ipython3",
   "version": "3.5.1"
  }
 },
 "nbformat": 4,
 "nbformat_minor": 0
}
