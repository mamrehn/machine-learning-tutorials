{
 "metadata": {
  "name": "",
  "signature": "sha256:af17ec3a725c0bf0ece84f5806814602f450096bd7ceaff625e5277ee250925c"
 },
 "nbformat": 3,
 "nbformat_minor": 0,
 "worksheets": [
  {
   "cells": [
    {
     "cell_type": "markdown",
     "metadata": {},
     "source": [
      "# Small Python Cheatsheet\n",
      "Sources: [learnpython.org](http://www.learnpython.org)\n",
      "### List comprehensions"
     ]
    },
    {
     "cell_type": "code",
     "collapsed": false,
     "input": [
      "sentence = \"the quick brown fox jumps over the lazy dog\"\n",
      "words = sentence.split()\n",
      "word_lengths = [len(word) for word in words if word != \"the\"]\n",
      "print(word_lengths)"
     ],
     "language": "python",
     "metadata": {},
     "outputs": [
      {
       "output_type": "stream",
       "stream": "stdout",
       "text": [
        "[5, 5, 3, 5, 4, 4, 3]\n"
       ]
      }
     ],
     "prompt_number": 2
    },
    {
     "cell_type": "markdown",
     "metadata": {},
     "source": [
      "### Variable amount of parameters"
     ]
    },
    {
     "cell_type": "code",
     "collapsed": false,
     "input": [
      "def foo(first, second, third, *therest):\n",
      "    print(\"First: %s\" % first)\n",
      "    print(\"Second: %s\" % second)\n",
      "    print(\"Third: %s\" % third)\n",
      "    print(\"And all the rest... %s\" % list(therest))\n",
      "\n",
      "print(foo(1,2,3,4,5))"
     ],
     "language": "python",
     "metadata": {},
     "outputs": [
      {
       "output_type": "stream",
       "stream": "stdout",
       "text": [
        "First: 1\n",
        "Second: 2\n",
        "Third: 3\n",
        "And all the rest... [4, 5]\n",
        "None\n"
       ]
      }
     ],
     "prompt_number": 1
    },
    {
     "cell_type": "markdown",
     "metadata": {},
     "source": [
      "### Variable amount of named parameters"
     ]
    },
    {
     "cell_type": "code",
     "collapsed": false,
     "input": [
      "def bar(first, second, third, **options):\n",
      "    if options.get(\"action\") == \"sum\":\n",
      "        print(\"The sum is: %d\" % (first + second + third))\n",
      "\n",
      "    if options.get(\"number\") == \"first\":\n",
      "        return first\n",
      "\n",
      "result = bar(1, 2, 3, action='sum', number ='first')\n",
      "print(\"Result: %d\" % result)"
     ],
     "language": "python",
     "metadata": {},
     "outputs": [
      {
       "output_type": "stream",
       "stream": "stdout",
       "text": [
        "The sum is: 6\n",
        "Result: 1\n"
       ]
      }
     ],
     "prompt_number": 6
    },
    {
     "cell_type": "markdown",
     "metadata": {},
     "source": [
      "### Regular expressions"
     ]
    },
    {
     "cell_type": "code",
     "collapsed": false,
     "input": [
      "myExp = r\"^(From|To|Cc).*?python-list@python.org\"\n",
      "import re\n",
      "pattern = re.compile(myExp)\n",
      "result = re.match(pattern, 'From sometextpython-list@python.org and some more')\n",
      "if result:\n",
      "    print(result)\n",
      "    print('Whole result:\\t', result.group(0))\n",
      "    print('First part:\\t', result.group(1))"
     ],
     "language": "python",
     "metadata": {},
     "outputs": [
      {
       "output_type": "stream",
       "stream": "stdout",
       "text": [
        "<_sre.SRE_Match object; span=(0, 35), match='From sometextpython-list@python.org'>\n",
        "Whole result:\t From sometextpython-list@python.org\n",
        "First part:\t From\n"
       ]
      }
     ],
     "prompt_number": 65
    },
    {
     "cell_type": "markdown",
     "metadata": {},
     "source": [
      "### Sets"
     ]
    },
    {
     "cell_type": "code",
     "collapsed": false,
     "input": [
      "a = set(['Jake', 'John', 'Eric'])\n",
      "b = set(['John', 'Jill'])\n",
      "print(a.intersection(b)) # in both sets\n",
      "print(a.difference(b)) # in a but not in b\n",
      "print(a.symmetric_difference(b)) # distinct\n",
      "print(a.union(b)) # joined set"
     ],
     "language": "python",
     "metadata": {},
     "outputs": [
      {
       "output_type": "stream",
       "stream": "stdout",
       "text": [
        "{'John'}\n",
        "{'Jake', 'Eric'}\n",
        "{'Jill', 'Jake', 'Eric'}\n",
        "{'Jill', 'Jake', 'Eric', 'John'}\n"
       ]
      }
     ],
     "prompt_number": 18
    },
    {
     "cell_type": "markdown",
     "metadata": {},
     "source": [
      "### JSON/Pickle serialization\n",
      "Using JSON.<br/>\n",
      "Properties of JSON serialization: `json = {binary: false, humanReadable: true, pythonSpecific: false, serializeCustomClasses: false}`"
     ]
    },
    {
     "cell_type": "code",
     "collapsed": false,
     "input": [
      "import json\n",
      "json_string = json.dumps([1, 2, 3, 'a', 'b', 'c'])\n",
      "print(json_string)\n",
      "print(json.loads(json_string))"
     ],
     "language": "python",
     "metadata": {},
     "outputs": [
      {
       "output_type": "stream",
       "stream": "stdout",
       "text": [
        "[1, 2, 3, \"a\", \"b\", \"c\"]\n",
        "[1, 2, 3, 'a', 'b', 'c']\n"
       ]
      }
     ],
     "prompt_number": 52
    },
    {
     "cell_type": "markdown",
     "metadata": {},
     "source": [
      "write JSON to and from a file"
     ]
    },
    {
     "cell_type": "code",
     "collapsed": false,
     "input": [
      "writeFp = open('config.json', 'w')\n",
      "json.dump({'b':1, 'a':2}, writeFp, sort_keys=True, indent=4)\n",
      "writeFp.close()\n",
      "readFp = open('config.json', 'r')\n",
      "for line in readFp:\n",
      "    print(line)\n",
      "readFp.close()"
     ],
     "language": "python",
     "metadata": {},
     "outputs": [
      {
       "output_type": "stream",
       "stream": "stdout",
       "text": [
        "{\n",
        "\n",
        "    \"a\": 2,\n",
        "\n",
        "    \"b\": 1\n",
        "\n",
        "}\n"
       ]
      }
     ],
     "prompt_number": 57
    },
    {
     "cell_type": "markdown",
     "metadata": {},
     "source": [
      "Using [cPickle](https://docs.python.org/3.5/library/pickle.html), Python's proprietary object serialization method. With pickle, objects can be serialized.<br/>\n",
      "Properties of pickle serialization: `pickle = {binary: true, humanReadable: false, pythonSpecific: true, serializeCustomClasses: true}`"
     ]
    },
    {
     "cell_type": "code",
     "collapsed": false,
     "input": [
      "import pickle # or cPickle for a faster implementation\n",
      "pickled_string = pickle.dumps([1, 2, 3, \"a\", \"b\", \"c\"])\n",
      "print(pickle.loads(pickled_string))\n",
      "\n",
      "class myTest:\n",
      "   def say(self):\n",
      "        return 'hello'\n",
      "\n",
      "pickled_string = pickle.dumps(myTest())\n",
      "print(\"Pickled:\\t\", pickled_string)\n",
      "print(\"Unpickled:\\t\", pickle.loads(pickled_string))\n",
      "print(\"Instance call:\\t\", pickle.loads(pickled_string).say())"
     ],
     "language": "python",
     "metadata": {},
     "outputs": [
      {
       "output_type": "stream",
       "stream": "stdout",
       "text": [
        "[1, 2, 3, 'a', 'b', 'c']\n",
        "Pickled:\t b'\\x80\\x03c__main__\\nmyTest\\nq\\x00)\\x81q\\x01.'\n",
        "Unpickled:\t <__main__.myTest object at 0x0000000006B13198>\n",
        "Instance call:\t hello\n"
       ]
      }
     ],
     "prompt_number": 43
    }
   ],
   "metadata": {}
  }
 ]
}