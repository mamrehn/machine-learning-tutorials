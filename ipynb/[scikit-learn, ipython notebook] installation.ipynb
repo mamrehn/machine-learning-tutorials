{
 "cells": [
  {
   "cell_type": "markdown",
   "metadata": {},
   "source": [
    "# Miniconda Installation\n",
    "Install Miniconda from their [Website](http://conda.pydata.org/miniconda.html).\n",
    "All required python packages will be downloaded using the `conda` package and environment management system.\n",
    "When Miniconda is installed on your system, open up your shell with the command <kbd>WINDOWS</kbd> + <kbd>R</kbd> -> `cmd` on windows or search for the\n",
    "`terminal` on Linux systems."
   ]
  },
  {
   "cell_type": "markdown",
   "metadata": {},
   "source": [
    "Then type this to make sure you got the latest version."
   ]
  },
  {
   "cell_type": "code",
   "execution_count": null,
   "metadata": {
    "collapsed": true
   },
   "outputs": [],
   "source": [
    "conda update conda"
   ]
  },
  {
   "cell_type": "markdown",
   "metadata": {},
   "source": [
    "A new environment capsule with preset libraries installed for one or more of your projects can be created. `fauenv` is the name of the new python 3.x environment in this example."
   ]
  },
  {
   "cell_type": "code",
   "execution_count": null,
   "metadata": {
    "collapsed": true
   },
   "outputs": [],
   "source": [
    "conda create -n fauenv python=3"
   ]
  },
  {
   "cell_type": "markdown",
   "metadata": {},
   "source": [
    "Check which environments are currently installed. `root` is the name of the default one."
   ]
  },
  {
   "cell_type": "code",
   "execution_count": null,
   "metadata": {
    "collapsed": true
   },
   "outputs": [],
   "source": [
    "conda info -e"
   ]
  },
  {
   "cell_type": "markdown",
   "metadata": {},
   "source": [
    "Then, `activate` the desired environment."
   ]
  },
  {
   "cell_type": "code",
   "execution_count": null,
   "metadata": {
    "collapsed": true
   },
   "outputs": [],
   "source": [
    "activate fauenv"
   ]
  },
  {
   "cell_type": "markdown",
   "metadata": {},
   "source": [
    "# Install Packages for Machine Learning / Pattern Recognition\n",
    "With this command, all required packages as well as their dependencies will be installed in the latest version possible. Version conflicts between them are avoided automatically.\n",
    "\n",
    "*Note, those packages are only installed for the chosen environment.\n",
    "If you want to install them on another environment in the same version,`conda` automatically creates the hardlinks to the library's directory, avoiding to have numerous copies of the same library on the filesystem.*"
   ]
  },
  {
   "cell_type": "markdown",
   "metadata": {},
   "source": [
    "###Install\n",
    "Use conda to install new packages."
   ]
  },
  {
   "cell_type": "code",
   "execution_count": null,
   "metadata": {
    "collapsed": true
   },
   "outputs": [],
   "source": [
    "conda install -n fauenv numpy scipy matplotlib ipython ipython-notebook numba scikit-learn \n",
    "conda install -n fauenv scikit-image nose pip pillow sympy ujson flask"
   ]
  },
  {
   "cell_type": "markdown",
   "metadata": {},
   "source": [
    "Install packages not in the conda repository via pip."
   ]
  },
  {
   "cell_type": "code",
   "execution_count": null,
   "metadata": {
    "collapsed": true
   },
   "outputs": [],
   "source": [
    "pip install nibabel pydicom medpy tinydb visvis"
   ]
  },
  {
   "cell_type": "markdown",
   "metadata": {},
   "source": [
    "###Clean up\n",
    "In order to free about 330MB of disc space after installation, delete the cached tar.bz archive files. *Packages no longer needed as dependencies can be deleted as well.*"
   ]
  },
  {
   "cell_type": "code",
   "execution_count": null,
   "metadata": {
    "collapsed": true
   },
   "outputs": [],
   "source": [
    "conda clean -tp # Delete downloaded cached tarballs (t) and orphaned packages (p)"
   ]
  },
  {
   "cell_type": "markdown",
   "metadata": {},
   "source": [
    "###Update\n",
    "To update all packages of a specific environment call"
   ]
  },
  {
   "cell_type": "code",
   "execution_count": null,
   "metadata": {
    "collapsed": true
   },
   "outputs": [],
   "source": [
    "conda update --all -n fauenv\n",
    "pip freeze --local | grep -v '^\\-e' | cut -d = -f 1  | xargs pip install -U"
   ]
  },
  {
   "cell_type": "markdown",
   "metadata": {},
   "source": [
    "Now, all is set up to get started.\n",
    "\n",
    "# Using IPython Notebook\n",
    "The [IPython Notebook](http://ipython.org/notebook.html) is a web-based interactive computational environment to combine code execution, text, mathematics, plots and rich media into a single document. \n",
    "There are several [tutorials](http://ipython.org/ipython-doc/dev/notebook/notebook.html#introduction) for this framework.\n",
    "\n",
    "To start IPython Notebook call"
   ]
  },
  {
   "cell_type": "code",
   "execution_count": null,
   "metadata": {
    "collapsed": true
   },
   "outputs": [],
   "source": [
    "ipython notebook # --port 8888"
   ]
  },
  {
   "cell_type": "markdown",
   "metadata": {},
   "source": [
    "The console will show an URL like http://localhost:8888/tree and open the operating system's default browser with this location.\n",
    "Use it to navigate, open, create, delete, and run `.ipynb` files."
   ]
  },
  {
   "cell_type": "markdown",
   "metadata": {},
   "source": [
    "Note: For inline plots use this *magic function* at the beginning of your code. This also imports numpy as `np`, imports matplotlib.pyplot as `plt`, and [others](http://ipython.org/ipython-doc/dev/interactive/magics.html?highlight=pylab#magic-pylab)."
   ]
  },
  {
   "cell_type": "code",
   "execution_count": null,
   "metadata": {
    "collapsed": false
   },
   "outputs": [],
   "source": [
    "%pylab inline"
   ]
  },
  {
   "cell_type": "markdown",
   "metadata": {},
   "source": [
    "## IPython notebook magic functions\n",
    "\n",
    "Unlike traditional python, the IPython notebook offers some extended timing, profiling, aliasing and other functionalities via it's magic functions.\n",
    "\n",
    "An example:"
   ]
  },
  {
   "cell_type": "code",
   "execution_count": 1,
   "metadata": {
    "collapsed": false
   },
   "outputs": [
    {
     "name": "stdout",
     "output_type": "stream",
     "text": [
      "Wall time: 7 ms\n"
     ]
    },
    {
     "data": {
      "text/plain": [
       "4999950000"
      ]
     },
     "execution_count": 1,
     "metadata": {},
     "output_type": "execute_result"
    }
   ],
   "source": [
    "%time sum(x for x in range(100000))"
   ]
  },
  {
   "cell_type": "code",
   "execution_count": 2,
   "metadata": {
    "collapsed": false
   },
   "outputs": [
    {
     "name": "stdout",
     "output_type": "stream",
     "text": [
      "100 loops, best of 3: 7.15 ms per loop\n"
     ]
    }
   ],
   "source": [
    "%timeit sum(x for x in range(100000))"
   ]
  },
  {
   "cell_type": "markdown",
   "metadata": {},
   "source": [
    "In standard python this would be achieved by"
   ]
  },
  {
   "cell_type": "code",
   "execution_count": null,
   "metadata": {
    "collapsed": true
   },
   "outputs": [],
   "source": [
    "python -mtimeit -s\"import test\" \"mytestFunction(42)\""
   ]
  },
  {
   "cell_type": "markdown",
   "metadata": {},
   "source": [
    "Some useful magic functions are\n",
    "- `%time` or `%timeit` for benchmarks\n",
    "- `%prun` for profiling\n",
    "- `%magic` returns a list of all magic functions\n",
    "- `%load` or `%loadpy` to import a `.py` file into the notebook\n",
    "- `%quickref` for a reference sheet"
   ]
  },
  {
   "cell_type": "code",
   "execution_count": null,
   "metadata": {
    "collapsed": false
   },
   "outputs": [],
   "source": [
    "%quickref"
   ]
  },
  {
   "cell_type": "markdown",
   "metadata": {},
   "source": [
    "## Further readings\n",
    "\n",
    "There are some great websites where ready-made IPython Notebook files can be found and imported:\n",
    "1. [Nbviewer](http://nbviewer.ipython.org/): An online `.ipynb` render engine for notebooks on github\n",
    "   1. [IPython Notebook Tutorial](http://nbviewer.ipython.org/github/johnkabler/ga_data_munging_python/tree/master/cookbook/)\n",
    "   2. Good [Scikit-learn Tutorial](http://nbviewer.ipython.org/github/bigsnarfdude/machineLearning/tree/master/)\n",
    "3. [Google: segmentation type:ipynb github](https://www.google.de/search?q=segmentation+type%3Aipynb+github)"
   ]
  },
  {
   "cell_type": "markdown",
   "metadata": {},
   "source": [
    "# Day two\n",
    "\n",
    "When you come back to working with `scikit-learn` and `ipython notebook`, use those commands to get the fresh releases and start the server"
   ]
  },
  {
   "cell_type": "code",
   "execution_count": null,
   "metadata": {
    "collapsed": true
   },
   "outputs": [],
   "source": [
    "conda update conda\n",
    "conda update --all -n fauenv\n",
    "activate fauenv\n",
    "pip freeze --local | grep -v '^\\-e' | cut -d = -f 1  | xargs pip install -U\n",
    "ipython notebook --pylab inline"
   ]
  },
  {
   "cell_type": "markdown",
   "metadata": {},
   "source": [
    "Upgrading to a new version of python"
   ]
  },
  {
   "cell_type": "code",
   "execution_count": null,
   "metadata": {
    "collapsed": true
   },
   "outputs": [],
   "source": [
    "activate fauenv\n",
    "conda install python=3.4"
   ]
  },
  {
   "cell_type": "markdown",
   "metadata": {},
   "source": [
    "# Environment integration into an IDE\n",
    "## PyCharm\n",
    "Download the IDE here: [jetbrains.com](https://www.jetbrains.com/pycharm/)\n",
    "\n",
    "In PyCharm go to\n",
    "1. File &rarr; Settings, or use <kbd>Strg</kbd> + <kbd>Alt</kbd> + <kbd>S</kbd>\n",
    "2. Project Interpreter &rarr; &lt;project name&gt; &rarr; *gear symbol* &rarr; Add Local\n",
    "3. Navigate to some path like `C:\\Miniconda3\\envs\\fauenv\\python.exe`, where *fauenv* is the environment you want to use"
   ]
  }
 ],
 "metadata": {
  "kernelspec": {
   "display_name": "Python 3",
   "language": "python",
   "name": "python3"
  },
  "language_info": {
   "codemirror_mode": {
    "name": "ipython",
    "version": 3
   },
   "file_extension": ".py",
   "mimetype": "text/x-python",
   "name": "python",
   "nbconvert_exporter": "python",
   "pygments_lexer": "ipython3",
   "version": "3.3.5"
  }
 },
 "nbformat": 4,
 "nbformat_minor": 0
}
