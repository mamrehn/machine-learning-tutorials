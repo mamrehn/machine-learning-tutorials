{
 "metadata": {
  "name": "",
  "signature": "sha256:4bbdf7ae4867728e9c989b2c705ace60a4d1718f65191f63a1a0f3c9fd523e01"
 },
 "nbformat": 3,
 "nbformat_minor": 0,
 "worksheets": [
  {
   "cells": [
    {
     "cell_type": "code",
     "collapsed": false,
     "input": [
      "# note: this also imports numpy as np, imports matplotlib.pyplot as plt, and others\n",
      "%pylab inline"
     ],
     "language": "python",
     "metadata": {},
     "outputs": [
      {
       "output_type": "stream",
       "stream": "stdout",
       "text": [
        "Populating the interactive namespace from numpy and matplotlib\n"
       ]
      }
     ],
     "prompt_number": 1
    },
    {
     "cell_type": "markdown",
     "metadata": {},
     "source": [
      "## Load Arff file into Scikit-learn\n",
      "Source: [Stackoverflow.com](http://stackoverflow.com/questions/22873434/prepare-scipy-io-loadarff-result-for-scikit-learn)"
     ]
    },
    {
     "cell_type": "code",
     "collapsed": false,
     "input": [
      "from sklearn.ensemble import RandomForestClassifier\n",
      "from scipy.io.arff import loadarff\n",
      "\n",
      "import scipy as sp\n",
      "import numpy as np\n",
      "\n",
      "dataset = loadarff(open('iris.arff','r'))\n",
      "target = np.array(dataset[0]['class'])\n",
      "train = np.array(dataset[0][['sepallength', 'sepalwidth', 'petallength', 'petalwidth']])\n",
      "train = np.asarray(train.tolist(), dtype=np.float32)\n",
      "rf = RandomForestClassifier(n_estimators = 20, n_jobs = 8)\n",
      "rf.fit(train, target)\n",
      "print(rf)\n",
      "\n",
      "# -----------------------\n",
      "arffFile = 'iris.arff'\n",
      "# -----------------------\n",
      "\n",
      "with open(arffFile,'r') as f:\n",
      "    data, meta = loadarff(f)\n",
      "\n",
      "print(type(data)) # <class 'numpy.ndarray'> \n",
      "print(type(meta)) # <class 'scipy.io.arff.arffread.MetaData'>\n",
      "\n",
      "train = data[meta.names()[:-1]] #everything but the last column\n",
      "train = train.view(np.float).reshape(data.shape + (-1,)) #converts the record array to a normal numpy array"
     ],
     "language": "python",
     "metadata": {},
     "outputs": [
      {
       "output_type": "stream",
       "stream": "stdout",
       "text": [
        "RandomForestClassifier(bootstrap=True, compute_importances=None,\n",
        "            criterion='gini', max_depth=None, max_features='auto',\n",
        "            max_leaf_nodes=None, min_density=None, min_samples_leaf=1,\n",
        "            min_samples_split=2, n_estimators=20, n_jobs=8,\n",
        "            oob_score=False, random_state=None, verbose=0)\n",
        "<type 'numpy.ndarray'>\n",
        "<class 'scipy.io.arff.arffread.MetaData'>\n"
       ]
      }
     ],
     "prompt_number": 2
    }
   ],
   "metadata": {}
  }
 ]
}