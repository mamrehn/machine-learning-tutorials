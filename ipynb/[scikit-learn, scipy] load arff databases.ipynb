{
 "cells": [
  {
   "cell_type": "code",
   "execution_count": 1,
   "metadata": {
    "collapsed": false
   },
   "outputs": [
    {
     "name": "stdout",
     "output_type": "stream",
     "text": [
      "Populating the interactive namespace from numpy and matplotlib\n"
     ]
    }
   ],
   "source": [
    "# note: this also imports numpy as np, imports matplotlib.pyplot as plt, and others\n",
    "%pylab inline"
   ]
  },
  {
   "cell_type": "markdown",
   "metadata": {},
   "source": [
    "## Load Arff file into Scikit-learn\n",
    "Source: [Stackoverflow.com](http://stackoverflow.com/questions/22873434/prepare-scipy-io-loadarff-result-for-scikit-learn)"
   ]
  },
  {
   "cell_type": "code",
   "execution_count": 2,
   "metadata": {
    "collapsed": false
   },
   "outputs": [
    {
     "name": "stdout",
     "output_type": "stream",
     "text": [
      "RandomForestClassifier(bootstrap=True, class_weight=None, criterion='gini',\n",
      "            max_depth=None, max_features='auto', max_leaf_nodes=None,\n",
      "            min_samples_leaf=1, min_samples_split=2,\n",
      "            min_weight_fraction_leaf=0.0, n_estimators=20, n_jobs=8,\n",
      "            oob_score=False, random_state=None, verbose=0,\n",
      "            warm_start=False)\n",
      "<class 'numpy.ndarray'>\n",
      "<class 'scipy.io.arff.arffread.MetaData'>\n"
     ]
    }
   ],
   "source": [
    "from sklearn.ensemble import RandomForestClassifier\n",
    "from scipy.io.arff import loadarff\n",
    "\n",
    "import scipy as sp\n",
    "import numpy as np\n",
    "\n",
    "dataset = loadarff(open('iris.arff','r'))\n",
    "target = np.array(dataset[0]['class'])\n",
    "train = np.array(dataset[0][['sepallength', 'sepalwidth', 'petallength', 'petalwidth']])\n",
    "train = np.asarray(train.tolist(), dtype=np.float32)\n",
    "rf = RandomForestClassifier(n_estimators = 20, n_jobs = 8)\n",
    "rf.fit(train, target)\n",
    "print(rf)\n",
    "\n",
    "# -----------------------\n",
    "arffFile = 'iris.arff'  # get it here http://www.cas.mcmaster.ca/~cs4tf3/iris.arff\n",
    "# -----------------------\n",
    "\n",
    "with open(arffFile,'r') as f:\n",
    "    data, meta = loadarff(f)\n",
    "\n",
    "print(type(data)) # <class 'numpy.ndarray'> \n",
    "print(type(meta)) # <class 'scipy.io.arff.arffread.MetaData'>\n",
    "\n",
    "train = data[meta.names()[:-1]] #everything but the last column\n",
    "train = train.view(np.float).reshape(data.shape + (-1,)) #converts the record array to a normal numpy array"
   ]
  }
 ],
 "metadata": {
  "kernelspec": {
   "display_name": "Python 3",
   "language": "python",
   "name": "python3"
  },
  "language_info": {
   "codemirror_mode": {
    "name": "ipython",
    "version": 3
   },
   "file_extension": ".py",
   "mimetype": "text/x-python",
   "name": "python",
   "nbconvert_exporter": "python",
   "pygments_lexer": "ipython3",
   "version": "3.5.1"
  }
 },
 "nbformat": 4,
 "nbformat_minor": 0
}
