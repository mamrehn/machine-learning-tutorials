{
 "cells": [
  {
   "cell_type": "markdown",
   "metadata": {},
   "source": [
    "This is a quick tutorial to get started with scikit-learn.\n",
    "\n",
    "Parts of the code presented are based on this [machineLearning](http://nbviewer.ipython.org/github/bigsnarfdude/machineLearning/blob/master/02_sklearn_data.ipynb)\n",
    "tutorial."
   ]
  },
  {
   "cell_type": "markdown",
   "metadata": {},
   "source": [
    "First, let's take a look at the versions of the libraries involved."
   ]
  },
  {
   "cell_type": "code",
   "execution_count": 1,
   "metadata": {
    "collapsed": false
   },
   "outputs": [
    {
     "name": "stdout",
     "output_type": "stream",
     "text": [
      "numpy:\t\t1.10.4\n",
      "scipy:\t\t0.17.0\n",
      "matplotlib:\t1.5.1\n",
      "scikit-learn:\t0.17.1\n"
     ]
    }
   ],
   "source": [
    "import numpy;      print('numpy:\\t', numpy.__version__, sep='\\t')\n",
    "import scipy;      print('scipy:\\t', scipy.__version__, sep='\\t')\n",
    "import matplotlib; print('matplotlib:', matplotlib.__version__, sep='\\t')\n",
    "import sklearn;    print('scikit-learn:', sklearn.__version__, sep='\\t')"
   ]
  },
  {
   "cell_type": "markdown",
   "metadata": {},
   "source": [
    "Then load some data."
   ]
  },
  {
   "cell_type": "code",
   "execution_count": 2,
   "metadata": {
    "collapsed": false
   },
   "outputs": [
    {
     "data": {
      "text/plain": [
       "dict_keys(['target', 'target_names', 'feature_names', 'data', 'DESCR'])"
      ]
     },
     "execution_count": 2,
     "metadata": {},
     "output_type": "execute_result"
    }
   ],
   "source": [
    "from sklearn import datasets\n",
    "\n",
    "#datasets.load_ -> [press tab for completion]\n",
    "iris = datasets.load_iris()\n",
    "iris.keys()"
   ]
  },
  {
   "cell_type": "code",
   "execution_count": 3,
   "metadata": {
    "collapsed": false
   },
   "outputs": [
    {
     "name": "stdout",
     "output_type": "stream",
     "text": [
      "\n",
      "==  target ==\n",
      " [0 0 0 0 0 0 0 0 0 0 0 0 0 0 0 0 0 0 0 0 0 0 0 0 0 0 0 0 0 0 0 0 0 0 0 0 0\n",
      " 0 0 0 0 0 0 0 0 0 0 0 0 0 1 1 1 1 1 1 1 1 1 1 1 1 1 1 1 1 1 1 1 1 1 1 1 1\n",
      " 1 1 1 1 1 1 1 1 1 1 1 1 1 1 1 1 1 1 1 1 1 1 1 1 1 1 2 2 2 2 2 2 2 2 2 2 2\n",
      " 2 2 2 2 2 2 2 2 2 2 2 2 2 2 2 2 2 2 2 2 2 2 2 2 2 2 2 2 2 2 2 2 2 2 2 2 2\n",
      " 2 2]\n",
      "\n",
      "==  target_names ==\n",
      " ['setosa' 'versicolor' 'virginica']\n",
      "\n",
      "==  feature_names ==\n",
      " ['sepal length (cm)', 'sepal width (cm)', 'petal length (cm)', 'petal width (cm)']\n",
      "\n",
      "==  data ==\n",
      " [[ 5.1  3.5  1.4  0.2]\n",
      " [ 4.9  3.   1.4  0.2]\n",
      " [ 4.7  3.2  1.3  0.2]\n",
      " [ 4.6  3.1  1.5  0.2]\n",
      " [ 5.   3.6  1.4  0.2]\n",
      " [ 5.4  3.9  1.7  0.4]\n",
      " [ 4.6  3.4  1.4  0.3]\n",
      " [ 5.   3.4  1.5  0.2]\n",
      " [ 4.4  2.9  1.4  0.2]\n",
      " [ 4.9  3.1  1.5  0.1]\n",
      " [ 5.4  3.7  1.5  0.2]\n",
      " [ 4.8  3.4  1.6  0.2]\n",
      " [ 4.8  3.   1.4  0.1]\n",
      " [ 4.3  3.   1.1  0.1]\n",
      " [ 5.8  4.   1.2  0.2]\n",
      " [ 5.7  4.4  1.5  0.4]\n",
      " [ 5.4  3.9  1.3  0.4]\n",
      "\n",
      "==  DESCR ==\n",
      " Iris Plants Database\n",
      "\n",
      "Notes\n",
      "-----\n",
      "Data Set Characteristics:\n",
      "    :Number of Instances: 150 (50 in each of three classes)\n",
      "    :Number of Attributes: 4 numeric, predictive attributes and the class\n",
      "    :Attribute Information:\n",
      "        - sepal length in cm\n",
      "        - sepal width in cm\n",
      "        - petal length in cm\n",
      "        - petal width in cm\n",
      "        - class:\n",
      "                - Iris-Setosa\n",
      "       \n"
     ]
    }
   ],
   "source": [
    "for k in iris.keys():\n",
    "    print('\\n== ', k, '==\\n', str(iris[k])[0:390])"
   ]
  },
  {
   "cell_type": "code",
   "execution_count": 4,
   "metadata": {
    "collapsed": false
   },
   "outputs": [
    {
     "name": "stdout",
     "output_type": "stream",
     "text": [
      "target : <class 'numpy.ndarray'>\n",
      "target_names : <class 'numpy.ndarray'>\n",
      "feature_names : <class 'list'>\n",
      "data : <class 'numpy.ndarray'>\n",
      "DESCR : <class 'str'>\n"
     ]
    }
   ],
   "source": [
    "for k in iris.keys():\n",
    "    print(k, ':', type(iris[k]))"
   ]
  },
  {
   "cell_type": "code",
   "execution_count": 5,
   "metadata": {
    "collapsed": false
   },
   "outputs": [
    {
     "data": {
      "text/plain": [
       "[('target', (150,)), ('target_names', (3,)), ('data', (150, 4))]"
      ]
     },
     "execution_count": 5,
     "metadata": {},
     "output_type": "execute_result"
    }
   ],
   "source": [
    "[(k, iris[k].shape) for k in iris.keys() if type(iris[k]) == numpy.ndarray]"
   ]
  },
  {
   "cell_type": "code",
   "execution_count": 6,
   "metadata": {
    "collapsed": false
   },
   "outputs": [
    {
     "name": "stdout",
     "output_type": "stream",
     "text": [
      "Populating the interactive namespace from numpy and matplotlib\n"
     ]
    }
   ],
   "source": [
    "# note: this also imports numpy as np, imports matplotlib.pyplot as plt, and others\n",
    "%pylab inline"
   ]
  },
  {
   "cell_type": "markdown",
   "metadata": {},
   "source": [
    "Benchmark classificator by [ml-benchmarks](https://github.com/scikit-learn/ml-benchmarks/tree/master/benchmarks):"
   ]
  },
  {
   "cell_type": "code",
   "execution_count": 7,
   "metadata": {
    "collapsed": false
   },
   "outputs": [
    {
     "name": "stdout",
     "output_type": "stream",
     "text": [
      "Tries: 25 Score: 0.945945945946 Time: 0.850540608696 (mean) 0.826801 (median)\n"
     ]
    }
   ],
   "source": [
    "def dtime_to_seconds(dtime):\n",
    "    return dtime.seconds + (dtime.microseconds * 1e-6)\n",
    "\n",
    "def bench(func, data, n=10):\n",
    "    assert n > 2\n",
    "    score = np.inf\n",
    "    try:\n",
    "        time = []\n",
    "        for i in range(n):\n",
    "            score, t = func(*data)\n",
    "            time.append(dtime_to_seconds(t))\n",
    "        # remove extremal values\n",
    "        time.pop(np.argmax(time))\n",
    "        time.pop(np.argmin(time))\n",
    "    except Exception as detail:\n",
    "        print('%s error in function %s: ', (repr(detail), func))\n",
    "        time = []\n",
    "    return score, np.array(time)\n",
    "\n",
    "def bench_skl(X, y, T, valid):\n",
    "    from sklearn import linear_model, ensemble\n",
    "    start = datetime.now()\n",
    "    # http://scikit-learn.org/stable/modules/classes.html\n",
    "    clf = ensemble.RandomForestClassifier(n_estimators=1000, n_jobs=5, verbose=0)\n",
    "    #clf = linear_model.ElasticNet(alpha=0.5, l1_ratio=0.5)\n",
    "    #clf = linear_model.LogisticRegression()\n",
    "    #clf = neighbors.NeighborsClassifier(n_neighbors=n_neighbors, algorithm='brute_inplace')\n",
    "    #clf = skl_cluster.KMeans(k=n_components, n_init=1)\n",
    "    #...\n",
    "    clf.fit(X, y)\n",
    "\n",
    "    ## Regression\n",
    "    # pred = clf.predict(T)\n",
    "    # delta = datetime.now() - start\n",
    "    # mse = np.linalg.norm(pred - valid, 2) ** 2\n",
    "    # return mse, delta\n",
    "\n",
    "    # Classification\n",
    "    score = np.mean(clf.predict(T) == valid)\n",
    "    return score, datetime.now() - start\n",
    "\n",
    "from sklearn import datasets\n",
    "import numpy as np\n",
    "from datetime import datetime\n",
    "\n",
    "iris = datasets.load_iris()\n",
    "\n",
    "sample_range = np.random.random_sample(size=iris.target.shape[0])\n",
    "TH = 0.7\n",
    "\n",
    "X = np.array([(iris.data[i,]) for i in range(len(iris.target)) if sample_range[i] >= TH])\n",
    "Y = np.array([(iris.target[i,]) for i in range(len(iris.target)) if sample_range[i] >= TH])\n",
    "T = np.array([(iris.data[i,]) for i in range(len(iris.target)) if sample_range[i] < TH])\n",
    "valid = np.array([(iris.target[i,]) for i in range(len(iris.target)) if sample_range[i] < TH])\n",
    "\n",
    "num_tries = 25\n",
    "score, times = bench(bench_skl, (X,Y,T,valid), num_tries)\n",
    "print('Tries:', num_tries, 'Score:', score, 'Time:', np.mean(times), '(mean)', np.median(times), '(median)')"
   ]
  }
 ],
 "metadata": {
  "kernelspec": {
   "display_name": "Python 3",
   "language": "python",
   "name": "python3"
  },
  "language_info": {
   "codemirror_mode": {
    "name": "ipython",
    "version": 3
   },
   "file_extension": ".py",
   "mimetype": "text/x-python",
   "name": "python",
   "nbconvert_exporter": "python",
   "pygments_lexer": "ipython3",
   "version": "3.5.1"
  }
 },
 "nbformat": 4,
 "nbformat_minor": 0
}
