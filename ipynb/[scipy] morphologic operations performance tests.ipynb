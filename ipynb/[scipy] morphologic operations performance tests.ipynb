{
 "cells": [
  {
   "cell_type": "markdown",
   "metadata": {},
   "source": [
    "## Test `distance_transform_edt()` Performance\n",
    "[scipy.ndimage.morphology.distance_transform_edt](http://docs.scipy.org/doc/scipy-dev/reference/generated/scipy.ndimage.morphology.distance_transform_edt.html#scipy.ndimage.morphology.distance_transform_edt)"
   ]
  },
  {
   "cell_type": "code",
   "execution_count": 1,
   "metadata": {
    "collapsed": false
   },
   "outputs": [
    {
     "name": "stdout",
     "output_type": "stream",
     "text": [
      "Populating the interactive namespace from numpy and matplotlib\n"
     ]
    }
   ],
   "source": [
    "%pylab inline"
   ]
  },
  {
   "cell_type": "code",
   "execution_count": 2,
   "metadata": {
    "collapsed": false,
    "scrolled": true
   },
   "outputs": [
    {
     "data": {
      "text/html": [
       "\n",
       "        <iframe\n",
       "            width=\"100%\"\n",
       "            height=\"400\"\n",
       "            src=\"http://docs.scipy.org/doc/scipy-dev/reference/generated/scipy.ndimage.morphology.distance_transform_edt.html#scipy.ndimage.morphology.distance_transform_edt\"\n",
       "            frameborder=\"0\"\n",
       "            allowfullscreen\n",
       "        ></iframe>\n",
       "        "
      ],
      "text/plain": [
       "<IPython.lib.display.IFrame at 0x6597e10>"
      ]
     },
     "execution_count": 2,
     "metadata": {},
     "output_type": "execute_result"
    }
   ],
   "source": [
    "from IPython.display import IFrame\n",
    "IFrame('http://docs.scipy.org/doc/scipy-dev/reference/generated/scipy.ndimage.morphology.distance_transform_edt.html#scipy.ndimage.morphology.distance_transform_edt',\n",
    "    width='100%', height=400)"
   ]
  },
  {
   "cell_type": "code",
   "execution_count": 3,
   "metadata": {
    "collapsed": true
   },
   "outputs": [],
   "source": [
    "import numpy as np\n",
    "from scipy.ndimage.morphology import distance_transform_edt"
   ]
  },
  {
   "cell_type": "code",
   "execution_count": 4,
   "metadata": {
    "collapsed": false
   },
   "outputs": [
    {
     "data": {
      "text/plain": [
       "array([[ 0.  ,  0.11,  0.22,  0.33,  0.44],\n",
       "       [ 0.  ,  0.  ,  0.11,  0.22,  0.33],\n",
       "       [ 0.  ,  0.11,  0.22,  0.33,  0.44],\n",
       "       [ 0.  ,  0.11,  0.22,  0.11,  0.  ],\n",
       "       [ 0.  ,  0.11,  0.11,  0.  ,  0.  ]])"
      ]
     },
     "execution_count": 4,
     "metadata": {},
     "output_type": "execute_result"
    }
   ],
   "source": [
    "a = np.array(([0,1,1,1,1],\n",
    "                  [0,0,1,1,1],\n",
    "                  [0,1,1,1,1],\n",
    "                  [0,1,1,1,0],\n",
    "                  [0,1,1,0,0]))\n",
    "dist, ind = distance_transform_edt(a, sampling=[2, 0.11], return_indices=True)\n",
    "dist"
   ]
  },
  {
   "cell_type": "code",
   "execution_count": 5,
   "metadata": {
    "collapsed": false
   },
   "outputs": [
    {
     "data": {
      "text/plain": [
       "array([[[0, 0, 0, 0, 0],\n",
       "        [1, 1, 1, 1, 1],\n",
       "        [2, 2, 2, 2, 2],\n",
       "        [3, 3, 3, 3, 3],\n",
       "        [4, 4, 4, 4, 4]],\n",
       "\n",
       "       [[0, 0, 0, 0, 0],\n",
       "        [0, 1, 1, 1, 1],\n",
       "        [0, 0, 0, 0, 0],\n",
       "        [0, 0, 0, 4, 4],\n",
       "        [0, 0, 3, 3, 4]]])"
      ]
     },
     "execution_count": 5,
     "metadata": {},
     "output_type": "execute_result"
    }
   ],
   "source": [
    "ind"
   ]
  },
  {
   "cell_type": "code",
   "execution_count": 6,
   "metadata": {
    "collapsed": false
   },
   "outputs": [
    {
     "name": "stdout",
     "output_type": "stream",
     "text": [
      "1 loops, best of 3: 1.77 s per loop\n"
     ]
    }
   ],
   "source": [
    "n = 200\n",
    "a = np.random.randint(low=0, high=2, size=(n,n,n))\n",
    "%timeit dist = distance_transform_edt(a, sampling=[2.001, 0.11, 0.73])"
   ]
  },
  {
   "cell_type": "code",
   "execution_count": 7,
   "metadata": {
    "collapsed": false
   },
   "outputs": [
    {
     "name": "stdout",
     "output_type": "stream",
     "text": [
      "1 loops, best of 3: 1.81 s per loop\n"
     ]
    }
   ],
   "source": [
    "a = np.random.rand(n,n,n)\n",
    "a[a < 0.5] = 0\n",
    "a[a >= 0.5] = 1\n",
    "%timeit dist = distance_transform_edt(a, sampling=[2.001, 0.11, 0.73])"
   ]
  },
  {
   "cell_type": "code",
   "execution_count": 8,
   "metadata": {
    "collapsed": false
   },
   "outputs": [
    {
     "name": "stdout",
     "output_type": "stream",
     "text": [
      "1 loops, best of 3: 1.78 s per loop\n"
     ]
    }
   ],
   "source": [
    "a = np.random.rand(n,n,n)\n",
    "a[a < 0.5] = 0\n",
    "a[a >= 0.5] = 1\n",
    "%timeit dist, ind = distance_transform_edt(a, sampling=[2.001, 0.11, 0.73], return_indices=True)"
   ]
  }
 ],
 "metadata": {
  "kernelspec": {
   "display_name": "Python 3",
   "language": "python",
   "name": "python3"
  },
  "language_info": {
   "codemirror_mode": {
    "name": "ipython",
    "version": 3
   },
   "file_extension": ".py",
   "mimetype": "text/x-python",
   "name": "python",
   "nbconvert_exporter": "python",
   "pygments_lexer": "ipython3",
   "version": "3.3.5"
  }
 },
 "nbformat": 4,
 "nbformat_minor": 0
}
