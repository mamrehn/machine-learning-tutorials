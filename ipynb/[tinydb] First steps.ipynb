{
 "worksheets": [
  {
   "cells": [
    {
     "cell_type": "heading",
     "metadata": {},
     "level": 1,
     "source": [
      "TinyDB"
     ]
    },
    {
     "cell_type": "markdown",
     "metadata": {},
     "source": [
      "TinyDB is a small and lightweight [NoSQL](http://en.wikipedia.org/wiki/NoSQL) database framework based on simple JSON files."
     ]
    },
    {
     "cell_type": "heading",
     "metadata": {},
     "level": 2,
     "source": [
      "Source"
     ]
    },
    {
     "cell_type": "markdown",
     "metadata": {},
     "source": [
      "Official Website:\n",
      "- [getting started](http://tinydb.readthedocs.org/en/latest/getting-started.html)\n",
      "- [advanced usage](http://tinydb.readthedocs.org/en/latest/usage.html)"
     ]
    },
    {
     "cell_type": "heading",
     "metadata": {},
     "level": 2,
     "source": [
      "Code"
     ]
    },
    {
     "cell_type": "markdown",
     "metadata": {},
     "source": [
      "Some examples to create a database and insert, delete and seach for elements."
     ]
    },
    {
     "cell_type": "heading",
     "metadata": {},
     "level": 3,
     "source": [
      "Basics"
     ]
    },
    {
     "cell_type": "markdown",
     "metadata": {},
     "source": [
      "Generate new database. If `path` leads to an existing file, the data is read. Otherwise a new database is created."
     ]
    },
    {
     "cell_type": "code",
     "metadata": {},
     "outputs": [],
     "input": [
      "path = './testData.json'\n",
      "from tinydb import TinyDB, where\n",
      "db = TinyDB(path)"
     ],
     "language": "python"
    },
    {
     "cell_type": "markdown",
     "metadata": {},
     "source": [
      "Insert some data into `db`"
     ]
    },
    {
     "cell_type": "code",
     "metadata": {},
     "outputs": [
      {
       "output_type": "stream",
       "stream": "1\n",
       "text": [
        "1\n"
       ]
      },
      {
       "output_type": "pyout",
       "text": [
        "[{'b': 3, 'a': 1}]"
       ],
       "metadata": {}
      }
     ],
     "input": [
      "print(db.insert({'a':1, 'b':3})) # return the elements id [1,2,..]\n",
      "db.all() # returns list of dicts"
     ],
     "language": "python",
     "prompt_number": 6
    },
    {
     "cell_type": "markdown",
     "metadata": {},
     "source": [
      "Fill with some data ([iris](http://scikit-learn.org/stable/auto_examples/datasets/plot_iris_dataset.html))"
     ]
    },
    {
     "cell_type": "code",
     "metadata": {},
     "outputs": [
      {
       "output_type": "stream",
       "stream": "== data ==\n [[ 5.1  3.5  1.4  0.2]\n [ 4.9  3.   1.4  0.2]\n [ 4.7  3.2  1.3  0.2]\n [ 4.6  3.1  1.5  0.2]\n [ 5.   3.6  1.4  0.2]] \n ...\n== keys ==\n ['sepal length (cm)', 'sepal width (cm)', 'petal length (cm)', 'petal width (cm)']\n",
       "text": [
        "== data ==\n [[ 5.1  3.5  1.4  0.2]\n [ 4.9  3.   1.4  0.2]\n [ 4.7  3.2  1.3  0.2]\n [ 4.6  3.1  1.5  0.2]\n [ 5.   3.6  1.4  0.2]] \n ...\n== keys ==\n ['sepal length (cm)', 'sepal width (cm)', 'petal length (cm)', 'petal width (cm)']\n"
       ]
      }
     ],
     "input": [
      "db.purge()\n",
      "\n",
      "from sklearn import datasets\n",
      "iris = datasets.load_iris()\n",
      "data = iris.data\n",
      "keys = iris.feature_names\n",
      "print('== data ==\\n', data[:5], '\\n ...')\n",
      "print('== keys ==\\n', keys)"
     ],
     "language": "python",
     "prompt_number": 7
    },
    {
     "cell_type": "code",
     "metadata": {},
     "outputs": [
      {
       "output_type": "pyout",
       "text": [
        "[{'sepal length (cm)': 5.5,\n  'petal width (cm)': 0.2,\n  'petal length (cm)': 1.4,\n  'sepal width (cm)': 4.2},\n {'sepal length (cm)': 5.7,\n  'petal width (cm)': 0.4,\n  'petal length (cm)': 1.5,\n  'sepal width (cm)': 4.4}]"
       ],
       "metadata": {}
      }
     ],
     "input": [
      "if(0 == len(db)):\n",
      "    for d in data:\n",
      "        db.insert({\n",
      "            keys[0]: d[0],\n",
      "            keys[1]: d[1],\n",
      "            keys[2]: d[2],\n",
      "            keys[3]: d[3]\n",
      "        })\n",
      "# or\n",
      "# db.insert_multiple([ {}, {}, ...]) # returns list of ids\n",
      "db.search(where(keys[0]) >= 7.6 and where(keys[1]) >= 4.2)"
     ],
     "language": "python",
     "prompt_number": 8
    },
    {
     "cell_type": "heading",
     "metadata": {},
     "level": 3,
     "source": [
      "Error Handling"
     ]
    },
    {
     "cell_type": "code",
     "metadata": {},
     "outputs": [
      {
       "output_type": "stream",
       "stream": "Not in db.\n",
       "text": [
        "Not in db.\n"
       ]
      }
     ],
     "input": [
      "try:\n",
      "    r = db.search(where(keys[0]) > 1000)[0]\n",
      "    print(r)\n",
      "except:\n",
      "    print('Not in db.')"
     ],
     "language": "python",
     "prompt_number": 9
    },
    {
     "cell_type": "code",
     "metadata": {},
     "outputs": [
      {
       "output_type": "stream",
       "stream": "Not in db.\n",
       "text": [
        "Not in db.\n"
       ]
      }
     ],
     "input": [
      "r = db.get(where(keys[0]) > 1000)\n",
      "if not r:\n",
      "    print('Not in db.') # r is None"
     ],
     "language": "python",
     "prompt_number": 10
    },
    {
     "cell_type": "markdown",
     "metadata": {},
     "source": [
      "If the actual data is irrelevant, to check for the existance of an element, use `contains` or `count`."
     ]
    },
    {
     "cell_type": "code",
     "metadata": {},
     "outputs": [
      {
       "output_type": "pyout",
       "text": [
        "True"
       ],
       "metadata": {}
      }
     ],
     "input": [
      "db.contains(where(keys[2]) == 1)"
     ],
     "language": "python",
     "prompt_number": 11
    },
    {
     "cell_type": "code",
     "metadata": {},
     "outputs": [
      {
       "output_type": "pyout",
       "text": [
        "1"
       ],
       "metadata": {}
      }
     ],
     "input": [
      "db.count(where(keys[2]) == 1)"
     ],
     "language": "python",
     "prompt_number": 12
    },
    {
     "cell_type": "heading",
     "metadata": {},
     "level": 3,
     "source": [
      "IDs"
     ]
    },
    {
     "cell_type": "code",
     "metadata": {},
     "outputs": [
      {
       "output_type": "pyout",
       "text": [
        "'23'"
       ],
       "metadata": {}
      }
     ],
     "input": [
      "elem = db.get(where(keys[2]) == 1)\n",
      "elem.eid"
     ],
     "language": "python",
     "prompt_number": 13
    },
    {
     "cell_type": "code",
     "metadata": {},
     "outputs": [
      {
       "output_type": "stream",
       "stream": "150\n",
       "text": [
        "150\n"
       ]
      }
     ],
     "input": [
      "if db.contains(eids=[11, 12]):\n",
      "    e1 = db.get(eid=11)\n",
      "    e2 = db.get(eid=12)\n",
      "    db.remove(eids=[11, 12])\n",
      "    db.insert_multiple([e1, e2])\n",
      "\n",
      "print(len(db))    \n",
      "# db.remove(eids=list(arange(70, 75)))\n",
      "# print(len(db))"
     ],
     "language": "python",
     "prompt_number": 16
    },
    {
     "cell_type": "heading",
     "metadata": {},
     "level": 3,
     "source": [
      "Regex and nested queries"
     ]
    },
    {
     "cell_type": "code",
     "metadata": {},
     "outputs": [
      {
       "output_type": "stream",
       "stream": "[{'field': {'name': {'first_name': 'John', 'last_name': 'Doe'}}}]\n[{'field': {'name': {'first_name': 'John', 'last_name': 'Doe'}}}] \n\n[{'field': [{'val': 1}, {'val': 2}, {'val': 3}]}]\n",
       "text": [
        "[{'field': {'name': {'first_name': 'John', 'last_name': 'Doe'}}}]\n[{'field': {'name': {'first_name': 'John', 'last_name': 'Doe'}}}] \n\n[{'field': [{'val': 1}, {'val': 2}, {'val': 3}]}]\n"
       ]
      }
     ],
     "input": [
      "db.remove(where('field').has('name').has('last_name') == 'Doe')\n",
      "db.insert({'field': {'name': {'first_name': 'John', 'last_name': 'Doe'}}})\n",
      "print(db.search(where('field').has('name').has('last_name') == 'Doe'))\n",
      "print(db.search(where('field').has('name').has('last_name').matches('[0-9]*')),'\\n')\n",
      "\n",
      "db.remove(where('field').any(where('val') == 1))\n",
      "db.insert({'field': [{'val': 1}, {'val': 2}, {'val': 3}]})\n",
      "print(db.search(where('field').any(where('val') == 1)))"
     ],
     "language": "python",
     "prompt_number": 55
    },
    {
     "cell_type": "code",
     "metadata": {},
     "outputs": [],
     "input": [
      ""
     ],
     "language": "python"
    }
   ]
  }
 ],
 "cells": [],
 "metadata": {
  "name": "",
  "signature": "sha256:9bdb221ca3dbbf5bf5797fc02529090151690638f47e3013dd6ac81f10409737"
 },
 "nbformat": 3,
 "nbformat_minor": 0
}